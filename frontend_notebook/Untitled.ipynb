{
 "cells": [
  {
   "cell_type": "code",
   "execution_count": 21,
   "id": "735ee3bf-89b6-4560-a095-b8019f4f4e96",
   "metadata": {},
   "outputs": [],
   "source": [
    "import logging\n",
    "\n",
    "from sklearn.feature_extraction.text import TfidfVectorizer, CountVectorizer\n",
    "from sklearn.datasets import fetch_20newsgroups\n",
    "from sklearn.decomposition import NMF, LatentDirichletAllocation\n",
    "\n",
    "class TopicAnalyser:\n",
    "    def __init__(self, model_type = \"nmf\", data = None):\n",
    "        self.model_type = model_type\n",
    "        self.data = data\n",
    "\n",
    "    # get the topic analysis of the whole text\n",
    "    def display_topics(model, feature_names, no_top_words):\n",
    "        for topic_idx, topic in enumerate(model.components_):\n",
    "            return \" \".join([feature_names[i] for i in topic.argsort()[:-no_top_words - 1:-1]])\n",
    "\n",
    "    def analyse(self):\n",
    "        # TODO: participants should consider changing dataset to match the brief.\n",
    "        if (self.data == None):\n",
    "            dataset = fetch_20newsgroups(shuffle=True, random_state=1, remove=('headers', 'footers', 'quotes'))\n",
    "            documents = dataset.data\n",
    "\n",
    "        # HYPERPARAMETERS: Consider tuning\n",
    "        no_features = 1000\n",
    "        no_topics = 20\n",
    "\n",
    "        if self.model_type == \"nmf\":\n",
    "            # NMF is able to use tf-idf\n",
    "            tfidf_vectorizer = TfidfVectorizer(max_df=0.95, min_df=2, max_features=no_features, stop_words='english')\n",
    "            tfidf = tfidf_vectorizer.fit_transform(documents)\n",
    "            tfidf_feature_names = tfidf_vectorizer.get_feature_names()\n",
    "            # Run NMF\n",
    "            model = NMF(n_components=no_topics, random_state=1, alpha=.1, l1_ratio=.5, init='nndsvd').fit(tfidf)\n",
    "        elif self.model_type == \"lda\":\n",
    "            # LDA can only use raw term counts for LDA because it is a probabilistic graphical model\n",
    "            tf_vectorizer = CountVectorizer(max_df=0.95, min_df=2, max_features=no_features, stop_words='english')\n",
    "            tf = tf_vectorizer.fit_transform(documents)\n",
    "            tf_feature_names = tf_vectorizer.get_feature_names()\n",
    "            # Run LDA\n",
    "            model = LatentDirichletAllocation(n_components=no_topics, max_iter=5, learning_method='online',\n",
    "                                        learning_offset=50., random_state=0).fit(tf)\n",
    "        else:\n",
    "            logging.exception(\"Invalid model_type: {}\".format(self.model_type))\n",
    "\n",
    "        # HYPERPARAMETER: Consider tuning\n",
    "        no_top_words = 10\n",
    "        \n",
    "        # debug\n",
    "        model\n",
    "        \n",
    "        #topics = self.display_topics(model, tfidf_feature_names, no_top_words)\n",
    "        return model #topics"
   ]
  },
  {
   "cell_type": "code",
   "execution_count": 22,
   "id": "d004394a-a62a-40c2-9cb4-23152fa0ba65",
   "metadata": {},
   "outputs": [
    {
     "name": "stderr",
     "output_type": "stream",
     "text": [
      "/opt/conda/lib/python3.7/site-packages/sklearn/utils/deprecation.py:87: FutureWarning: Function get_feature_names is deprecated; get_feature_names is deprecated in 1.0 and will be removed in 1.2. Please use get_feature_names_out instead.\n",
      "  warnings.warn(msg, category=FutureWarning)\n",
      "/opt/conda/lib/python3.7/site-packages/sklearn/decomposition/_nmf.py:1425: FutureWarning: `alpha` was deprecated in version 1.0 and will be removed in 1.2. Use `alpha_W` and `alpha_H` instead\n",
      "  FutureWarning,\n"
     ]
    },
    {
     "data": {
      "text/plain": [
       "NMF(alpha=0.1, init='nndsvd', l1_ratio=0.5, n_components=20, random_state=1)"
      ]
     },
     "execution_count": 22,
     "metadata": {},
     "output_type": "execute_result"
    }
   ],
   "source": [
    "t = TopicAnalyser()\n",
    "\n",
    "t.analyse()"
   ]
  },
  {
   "cell_type": "code",
   "execution_count": null,
   "id": "db9a21a5-d87f-4f5a-8fb5-762a38435e0a",
   "metadata": {},
   "outputs": [],
   "source": []
  }
 ],
 "metadata": {
  "environment": {
   "kernel": "python3",
   "name": "common-cpu.m95",
   "type": "gcloud",
   "uri": "gcr.io/deeplearning-platform-release/base-cpu:m95"
  },
  "kernelspec": {
   "display_name": "Python 3",
   "language": "python",
   "name": "python3"
  },
  "language_info": {
   "codemirror_mode": {
    "name": "ipython",
    "version": 3
   },
   "file_extension": ".py",
   "mimetype": "text/x-python",
   "name": "python",
   "nbconvert_exporter": "python",
   "pygments_lexer": "ipython3",
   "version": "3.7.12"
  }
 },
 "nbformat": 4,
 "nbformat_minor": 5
}
